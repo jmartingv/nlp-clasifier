{
 "cells": [
  {
   "cell_type": "markdown",
   "metadata": {},
   "source": [
    "# Limpieza"
   ]
  },
  {
   "cell_type": "code",
   "execution_count": 15,
   "metadata": {},
   "outputs": [],
   "source": [
    "import numpy as np\n",
    "import pandas as pd\n",
    "from nltk.corpus import stopwords\n",
    "\n",
    "stopwords = set(stopwords.words('english'))"
   ]
  },
  {
   "cell_type": "code",
   "execution_count": 24,
   "metadata": {},
   "outputs": [
    {
     "data": {
      "text/html": [
       "<div>\n",
       "<style scoped>\n",
       "    .dataframe tbody tr th:only-of-type {\n",
       "        vertical-align: middle;\n",
       "    }\n",
       "\n",
       "    .dataframe tbody tr th {\n",
       "        vertical-align: top;\n",
       "    }\n",
       "\n",
       "    .dataframe thead th {\n",
       "        text-align: right;\n",
       "    }\n",
       "</style>\n",
       "<table border=\"1\" class=\"dataframe\">\n",
       "  <thead>\n",
       "    <tr style=\"text-align: right;\">\n",
       "      <th></th>\n",
       "      <th>Summary</th>\n",
       "      <th>Text</th>\n",
       "      <th>Score</th>\n",
       "    </tr>\n",
       "  </thead>\n",
       "  <tbody>\n",
       "    <tr>\n",
       "      <th>0</th>\n",
       "      <td>Can really notice when I am not drinking it</td>\n",
       "      <td>I have had hormone problems in the past couple...</td>\n",
       "      <td>5</td>\n",
       "    </tr>\n",
       "    <tr>\n",
       "      <th>1</th>\n",
       "      <td>Okay, just not the best</td>\n",
       "      <td>This is a decent balsamic glaze/reducation.&lt;br...</td>\n",
       "      <td>4</td>\n",
       "    </tr>\n",
       "    <tr>\n",
       "      <th>2</th>\n",
       "      <td>goo source of fiber, not so much a source of c...</td>\n",
       "      <td>the cookie is moist and chewy and has a great ...</td>\n",
       "      <td>3</td>\n",
       "    </tr>\n",
       "    <tr>\n",
       "      <th>3</th>\n",
       "      <td>Great GF Staple</td>\n",
       "      <td>I have a 4 yr old and a 2 yr old that can't ea...</td>\n",
       "      <td>5</td>\n",
       "    </tr>\n",
       "    <tr>\n",
       "      <th>4</th>\n",
       "      <td>Coffee just doesn't taste right without Sweet ...</td>\n",
       "      <td>We have drunk our coffee for 45 years using th...</td>\n",
       "      <td>5</td>\n",
       "    </tr>\n",
       "  </tbody>\n",
       "</table>\n",
       "</div>"
      ],
      "text/plain": [
       "                                             Summary  \\\n",
       "0        Can really notice when I am not drinking it   \n",
       "1                            Okay, just not the best   \n",
       "2  goo source of fiber, not so much a source of c...   \n",
       "3                                    Great GF Staple   \n",
       "4  Coffee just doesn't taste right without Sweet ...   \n",
       "\n",
       "                                                Text  Score  \n",
       "0  I have had hormone problems in the past couple...      5  \n",
       "1  This is a decent balsamic glaze/reducation.<br...      4  \n",
       "2  the cookie is moist and chewy and has a great ...      3  \n",
       "3  I have a 4 yr old and a 2 yr old that can't ea...      5  \n",
       "4  We have drunk our coffee for 45 years using th...      5  "
      ]
     },
     "execution_count": 24,
     "metadata": {},
     "output_type": "execute_result"
    }
   ],
   "source": [
    "datos = pd.read_csv('final-train.csv')\n",
    "datos.head()"
   ]
  },
  {
   "cell_type": "code",
   "execution_count": 25,
   "metadata": {},
   "outputs": [
    {
     "name": "stdout",
     "output_type": "stream",
     "text": [
      "I have had hormone problems in the past couple of years and after getting them tested and realizing they are way out of balance I went looking for natural products to help.<br /><br />This is one of my favourites by far.  I have been drinking this for 3 cycles now I usually start 2 weeks out with a cup of day and 1 week out increase it to 2-3 cups a day.  I can notice when I haven't been drinking it, my emotions start to get out of control and I feel very stressed out.<br /><br />It has a good blend of herbs that are proven to help relieve pms symptoms and balance your hormones.  I will keep ordering this tea!!!!\n"
     ]
    }
   ],
   "source": [
    "# Vemos la primera entrada de la columna 'text' y la columna 'summary'\n",
    "print(datos['Text'][0])"
   ]
  },
  {
   "cell_type": "code",
   "execution_count": 26,
   "metadata": {},
   "outputs": [
    {
     "name": "stdout",
     "output_type": "stream",
     "text": [
      "Can really notice when I am not drinking it\n"
     ]
    }
   ],
   "source": [
    "print(datos['Summary'][0])"
   ]
  },
  {
   "cell_type": "code",
   "execution_count": 27,
   "metadata": {},
   "outputs": [
    {
     "name": "stdout",
     "output_type": "stream",
     "text": [
      "<class 'pandas.core.frame.DataFrame'>\n",
      "RangeIndex: 426340 entries, 0 to 426339\n",
      "Data columns (total 3 columns):\n",
      " #   Column   Non-Null Count   Dtype \n",
      "---  ------   --------------   ----- \n",
      " 0   Summary  426323 non-null  object\n",
      " 1   Text     426340 non-null  object\n",
      " 2   Score    426340 non-null  int64 \n",
      "dtypes: int64(1), object(2)\n",
      "memory usage: 9.8+ MB\n"
     ]
    }
   ],
   "source": [
    "datos.info()"
   ]
  },
  {
   "cell_type": "code",
   "execution_count": 28,
   "metadata": {},
   "outputs": [],
   "source": [
    "datos.dropna(inplace=True)"
   ]
  },
  {
   "cell_type": "code",
   "execution_count": 29,
   "metadata": {},
   "outputs": [],
   "source": [
    "# Quitamos puntuaciones, pasamos a minúsculas y eliminamos stopwords\n",
    "datos['Text'] = datos['Text'].str.replace(r'[^\\w\\s]', '', regex=True).str.lower().apply(lambda x: ' '.join([word for word in x.split() if word not in stopwords]))\n",
    "datos['Summary'] = datos['Summary'].str.replace(r'[^\\w\\s]', '', regex=True).str.lower().apply(lambda x: ' '.join([word for word in x.split() if word not in stopwords]))"
   ]
  },
  {
   "cell_type": "code",
   "execution_count": 30,
   "metadata": {},
   "outputs": [],
   "source": [
    "# Juntamos las columnas 'Text' y 'Summary' en una sola columna\n",
    "datos['FullText'] = datos['Text'] + ' ' + datos['Summary']"
   ]
  },
  {
   "cell_type": "code",
   "execution_count": 31,
   "metadata": {},
   "outputs": [
    {
     "data": {
      "text/html": [
       "<div>\n",
       "<style scoped>\n",
       "    .dataframe tbody tr th:only-of-type {\n",
       "        vertical-align: middle;\n",
       "    }\n",
       "\n",
       "    .dataframe tbody tr th {\n",
       "        vertical-align: top;\n",
       "    }\n",
       "\n",
       "    .dataframe thead th {\n",
       "        text-align: right;\n",
       "    }\n",
       "</style>\n",
       "<table border=\"1\" class=\"dataframe\">\n",
       "  <thead>\n",
       "    <tr style=\"text-align: right;\">\n",
       "      <th></th>\n",
       "      <th>Summary</th>\n",
       "      <th>Text</th>\n",
       "      <th>Score</th>\n",
       "      <th>FullText</th>\n",
       "    </tr>\n",
       "  </thead>\n",
       "  <tbody>\n",
       "    <tr>\n",
       "      <th>0</th>\n",
       "      <td>really notice drinking</td>\n",
       "      <td>hormone problems past couple years getting tes...</td>\n",
       "      <td>5</td>\n",
       "      <td>hormone problems past couple years getting tes...</td>\n",
       "    </tr>\n",
       "    <tr>\n",
       "      <th>1</th>\n",
       "      <td>okay best</td>\n",
       "      <td>decent balsamic glazereducationbr br faint yea...</td>\n",
       "      <td>4</td>\n",
       "      <td>decent balsamic glazereducationbr br faint yea...</td>\n",
       "    </tr>\n",
       "    <tr>\n",
       "      <th>2</th>\n",
       "      <td>goo source fiber much source chocoate</td>\n",
       "      <td>cookie moist chewy great deal sweetness combin...</td>\n",
       "      <td>3</td>\n",
       "      <td>cookie moist chewy great deal sweetness combin...</td>\n",
       "    </tr>\n",
       "    <tr>\n",
       "      <th>3</th>\n",
       "      <td>great gf staple</td>\n",
       "      <td>4 yr old 2 yr old cant eat gluten awesome prod...</td>\n",
       "      <td>5</td>\n",
       "      <td>4 yr old 2 yr old cant eat gluten awesome prod...</td>\n",
       "    </tr>\n",
       "    <tr>\n",
       "      <th>4</th>\n",
       "      <td>coffee doesnt taste right without sweet n low</td>\n",
       "      <td>drunk coffee 45 years using pink stuff used mu...</td>\n",
       "      <td>5</td>\n",
       "      <td>drunk coffee 45 years using pink stuff used mu...</td>\n",
       "    </tr>\n",
       "    <tr>\n",
       "      <th>...</th>\n",
       "      <td>...</td>\n",
       "      <td>...</td>\n",
       "      <td>...</td>\n",
       "      <td>...</td>\n",
       "    </tr>\n",
       "    <tr>\n",
       "      <th>426335</th>\n",
       "      <td>funnel cake mix</td>\n",
       "      <td>good like gourmet ones fair havent tried plain...</td>\n",
       "      <td>4</td>\n",
       "      <td>good like gourmet ones fair havent tried plain...</td>\n",
       "    </tr>\n",
       "    <tr>\n",
       "      <th>426336</th>\n",
       "      <td>yummy fruit snacks</td>\n",
       "      <td>bought kids find eating taste really good unli...</td>\n",
       "      <td>5</td>\n",
       "      <td>bought kids find eating taste really good unli...</td>\n",
       "    </tr>\n",
       "    <tr>\n",
       "      <th>426337</th>\n",
       "      <td>great coffee</td>\n",
       "      <td>eight oclock makes great coffee balance decaf ...</td>\n",
       "      <td>5</td>\n",
       "      <td>eight oclock makes great coffee balance decaf ...</td>\n",
       "    </tr>\n",
       "    <tr>\n",
       "      <th>426338</th>\n",
       "      <td>earl grey earl grey</td>\n",
       "      <td>already liked regular stash earl grey dared tr...</td>\n",
       "      <td>5</td>\n",
       "      <td>already liked regular stash earl grey dared tr...</td>\n",
       "    </tr>\n",
       "    <tr>\n",
       "      <th>426339</th>\n",
       "      <td>excellent quality dogs love</td>\n",
       "      <td>57 dogs given time sometimes feeding many 4 di...</td>\n",
       "      <td>5</td>\n",
       "      <td>57 dogs given time sometimes feeding many 4 di...</td>\n",
       "    </tr>\n",
       "  </tbody>\n",
       "</table>\n",
       "<p>426323 rows × 4 columns</p>\n",
       "</div>"
      ],
      "text/plain": [
       "                                              Summary  \\\n",
       "0                              really notice drinking   \n",
       "1                                           okay best   \n",
       "2               goo source fiber much source chocoate   \n",
       "3                                     great gf staple   \n",
       "4       coffee doesnt taste right without sweet n low   \n",
       "...                                               ...   \n",
       "426335                                funnel cake mix   \n",
       "426336                             yummy fruit snacks   \n",
       "426337                                   great coffee   \n",
       "426338                            earl grey earl grey   \n",
       "426339                    excellent quality dogs love   \n",
       "\n",
       "                                                     Text  Score  \\\n",
       "0       hormone problems past couple years getting tes...      5   \n",
       "1       decent balsamic glazereducationbr br faint yea...      4   \n",
       "2       cookie moist chewy great deal sweetness combin...      3   \n",
       "3       4 yr old 2 yr old cant eat gluten awesome prod...      5   \n",
       "4       drunk coffee 45 years using pink stuff used mu...      5   \n",
       "...                                                   ...    ...   \n",
       "426335  good like gourmet ones fair havent tried plain...      4   \n",
       "426336  bought kids find eating taste really good unli...      5   \n",
       "426337  eight oclock makes great coffee balance decaf ...      5   \n",
       "426338  already liked regular stash earl grey dared tr...      5   \n",
       "426339  57 dogs given time sometimes feeding many 4 di...      5   \n",
       "\n",
       "                                                 FullText  \n",
       "0       hormone problems past couple years getting tes...  \n",
       "1       decent balsamic glazereducationbr br faint yea...  \n",
       "2       cookie moist chewy great deal sweetness combin...  \n",
       "3       4 yr old 2 yr old cant eat gluten awesome prod...  \n",
       "4       drunk coffee 45 years using pink stuff used mu...  \n",
       "...                                                   ...  \n",
       "426335  good like gourmet ones fair havent tried plain...  \n",
       "426336  bought kids find eating taste really good unli...  \n",
       "426337  eight oclock makes great coffee balance decaf ...  \n",
       "426338  already liked regular stash earl grey dared tr...  \n",
       "426339  57 dogs given time sometimes feeding many 4 di...  \n",
       "\n",
       "[426323 rows x 4 columns]"
      ]
     },
     "execution_count": 31,
     "metadata": {},
     "output_type": "execute_result"
    }
   ],
   "source": [
    "datos"
   ]
  },
  {
   "cell_type": "code",
   "execution_count": null,
   "metadata": {},
   "outputs": [],
   "source": []
  }
 ],
 "metadata": {
  "kernelspec": {
   "display_name": "PLN",
   "language": "python",
   "name": "python3"
  },
  "language_info": {
   "codemirror_mode": {
    "name": "ipython",
    "version": 3
   },
   "file_extension": ".py",
   "mimetype": "text/x-python",
   "name": "python",
   "nbconvert_exporter": "python",
   "pygments_lexer": "ipython3",
   "version": "3.12.5"
  }
 },
 "nbformat": 4,
 "nbformat_minor": 2
}
